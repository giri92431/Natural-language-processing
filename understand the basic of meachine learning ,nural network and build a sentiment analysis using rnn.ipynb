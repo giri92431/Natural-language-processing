{
 "cells": [
  {
   "cell_type": "markdown",
   "metadata": {},
   "source": [
    "## will be building sentiment analysis with RNN using Tensorflow\n",
    "Will try to explain as simple as possible\n"
   ]
  },
  {
   "cell_type": "markdown",
   "metadata": {},
   "source": [
    "What is sentiment analysis? \n",
    "It provides the sentiment of the sentences \n",
    "For example :\n",
    "\n",
    "    i am happy :positive sentiment\n",
    "    i am sad   :negative sentiment\n"
   ]
  },
  {
   "cell_type": "markdown",
   "metadata": {},
   "source": [
    "### will be looking into\n",
    " \n",
    " Word embedding: numerical representation of a word which we feed in to neural networks\n",
    "     For example:\n",
    "         [This, is, my, house] => [1, 0, 2, 1]\n",
    "        \n",
    "      What I will be looking into is   \n",
    "     cbow: continuous bag of words \n",
    "     Skip gram model: skip the word and look for the next word \n",
    " \n",
    " Word embedding is compute heavy function which can be optimised using loss function called as noise contrastive estimation\n"
   ]
  },
  {
   "cell_type": "markdown",
   "metadata": {},
   "source": [
    "RNN: recurrent neural networks is a powerful neural network\n",
    "Useful when we are in consideration of context and is useful when we have to consider a sequence of data\n",
    "For example \n",
    "    Frames in a movie \n",
    "    Sentences in a paragraph\n",
    "    Stock returns in a period\n"
   ]
  },
  {
   "cell_type": "raw",
   "metadata": {},
   "source": [
    "LSTM: long short term memory \n",
    "it’s a specific rnn architecture which overcome the instability during optimization called as vanishing and exploding gradient  \n"
   ]
  },
  {
   "cell_type": "markdown",
   "metadata": {},
   "source": [
    "### lets take a step back to understand what is meachine learing and types of it \n",
    "\n",
    "meachine learing in a simple tearm means \n",
    "(this is in my own words dont take it as a litteral meaning)\n",
    "it is a method of teaching computers to make and improve predictions or behaviors based on some data\n",
    "\n",
    "For coders  \n",
    "Machine creates a lot if else conditions on its own based on the data (not exactly this but logically something like this) \n",
    "\n",
    "For general people \n",
    "Teaching a machine like small kid to learn based on the data \n",
    "\n",
    "For scientist \n",
    "U already know what it is :)\n",
    "\n",
    "There are 2 tyres of machine learning\n",
    "##### 1 supervised learning\n",
    "Let me give an example \n",
    "\n",
    "A parent teaches a child how to recognise a car by showing different images of a car or toys 0f a car or showing actual cars. So that when the child see an object that looks like a car he can identify it as a car.\n",
    "This way of parent teaching a kid how to do things is called as supervised learning \n",
    "\n",
    "##### 2 unsupervised learning\n",
    "Example \n",
    "Instead of parent teaching the kid how to recognise a car, the parent will structure the information so that the kid can find himself that there is an object which has four wheels, has windows etc. and come to conclusion that it’s a car\n",
    "\n"
   ]
  },
  {
   "cell_type": "markdown",
   "metadata": {},
   "source": [
    "### Types of machine learning problems \n",
    "\n",
    "Classification: will classify positive or negative, good or bad, true or false, 1 or 0\n",
    "                Ex: sentimental analysis\n",
    "                \n",
    "Regression: will predict a value in a continuous range of number\n",
    "            Ex: stock market predication  \n",
    "               \n",
    "Clustering: looking at data set and finding logical and meaning full group\n",
    "            Ex: based on the life style can we divide people from Asia to Europe \n",
    "\n",
    "Rule-extraction: what kind of cause and response can we extract from the data\n",
    "                Ex: if a person shops for phone will he shop for a power bank\n",
    "                This category forms the basis of recommendation engine "
   ]
  },
  {
   "cell_type": "markdown",
   "metadata": {},
   "source": [
    "### How does machine predict\n",
    "\n",
    "Let’s start with the supervised learning \n",
    "Let me take an example of a car\n",
    "\n",
    "First step is training the machine \n",
    "U feed in the data like \n",
    "[4 wheels, steering, windshield, seat, mirrors], [car]\n",
    "[4 wheels, bumper, windshield, seat, break], [car]\n",
    "\n",
    "So the first array [4 wheels, steering, windshield, seat, mirrors] is called as features and for that features we provide a predication [car]\n",
    "#### remember machine cannot understand text u need to convert it to number something like [1, 0, 1, 0], [1]\n",
    "\n",
    "Like this we feed a huge number of data to the machine this data \n",
    "Data can be text image or anything with features and predication \n",
    "\n",
    "And then we ask the system \n",
    "Some new unknown features which is not in the dataset and it will predict (note: question u ask the computer must be little relevant to the data u trained it with) \n",
    "For ex: [side mirror, gear, break, steering] the machine will predict it’s a car\n",
    "U can’t ask for [water bottle, TV, location, something else] and expect it to predict a car \n",
    "\n",
    "### Traditional ml based system relay on experts to decide, what is the features to pay attention to in the data \n",
    "\n"
   ]
  },
  {
   "cell_type": "markdown",
   "metadata": {},
   "source": [
    "### Representation ml based system figure out by them self what features to pay attention to data\n",
    "\n",
    "### Neural networks are example of such systems\n",
    "\n",
    "#### Lets understand what neural network is how it works on high level \n",
    "Neural network is a type of artificial intelligence that attempts to imitate the way a human brain works. Rather than using a digital model, in which all computations manipulate zeros and ones, a neural network works by creating connections between processing elements, the computer equivalent of neurons. The organization and weights of the connections determine the output.\n",
    "\n",
    "in simple words (again trying to make it simple in my words do not take it as a literal meaning there is lot more to it)\n",
    "\n",
    "Neural network is a connected graph which have neurons as node and weight, biases as the edges,\n",
    "\n",
    "Each graph is called as a layer and the network can have many layers\n",
    "\n",
    "A network will contain minimum one input layer and one output layer which is called the visible layer\n",
    "And u can have as many layers in-between them which is called as hidden layer\n",
    "\n",
    "Note all the layers are connected to each other\n",
    "Each layer consists of individual interconnected neurons which parse the important features in the data pass it from one layer to another \n",
    "A neuron is nothing but a mathematical function which can take a number of input and produce an output\n",
    "For an active neuron a change in the input will trigger a corresponding change in the outputs\n",
    "\n",
    "Each neuron is connected to another neuron using a weight, this weight represents how important a first neurons output is to the input of a second neuron\n",
    "\n",
    "If the second neuron is sensitive to the output of a first neuron hen there connection is stronger\n",
    "\n",
    "\n",
    "####\n",
    "The training process of a neural network consist of Tweaking weights and bias for all the edges which connect neurons,\n",
    "These weigh and bias is what allows neural network to make predications\n",
    "\n",
    "A simple neuron is nothing but a mathematical function which does one of these 2 functions \n",
    "1) Affine transformation: it can only learn the linear relationship between the input and output \n",
    "2) Activation function: can learn much more complex relationship such as curves \n",
    "\n",
    "So the combination of affine transformation and activation function can learn any artery relationship \n",
    "Which means if this neurons are arranged properly the network can understand and learn any complex data \n",
    "\n",
    "\n",
    "#### Neural network there are two broad type for classification \n",
    "\n",
    "1: CNN convolutional neural network\n",
    "    Works with 2D data and great for image classification\n",
    "    \n",
    "2: RNN Recurrent neural network \n",
    "    Works with sequence data and are great for text data\n",
    "\n",
    "We will be working with RNN\n"
   ]
  },
  {
   "cell_type": "markdown",
   "metadata": {},
   "source": [
    "### lets understand more on word embedding to language modeling \n"
   ]
  },
  {
   "cell_type": "markdown",
   "metadata": {},
   "source": [
    "Representation of word and text to numerical are called word embedding \n",
    " And based on how we generate we can capture meanings and semantic relationships in text\n"
   ]
  }
 ],
 "metadata": {
  "kernelspec": {
   "display_name": "Python [conda env:tensorflow-gpu]",
   "language": "python",
   "name": "conda-env-tensorflow-gpu-py"
  },
  "language_info": {
   "codemirror_mode": {
    "name": "ipython",
    "version": 3
   },
   "file_extension": ".py",
   "mimetype": "text/x-python",
   "name": "python",
   "nbconvert_exporter": "python",
   "pygments_lexer": "ipython3",
   "version": "3.6.2"
  }
 },
 "nbformat": 4,
 "nbformat_minor": 2
}
